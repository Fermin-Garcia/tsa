{
 "cells": [
  {
   "cell_type": "code",
   "execution_count": 1,
   "id": "b4986c6a-65dc-4e93-b231-d367f035e362",
   "metadata": {},
   "outputs": [],
   "source": [
    "import acquire as a"
   ]
  },
  {
   "cell_type": "code",
   "execution_count": 2,
   "id": "f552a724-d237-4000-a43f-f5cefd78e559",
   "metadata": {},
   "outputs": [
    {
     "name": "stdout",
     "output_type": "stream",
     "text": [
      "https://swapi.dev/api/planets/?page=2\n",
      "https://swapi.dev/api/planets/?page=3\n",
      "https://swapi.dev/api/planets/?page=4\n",
      "https://swapi.dev/api/planets/?page=5\n",
      "https://swapi.dev/api/planets/?page=6\n"
     ]
    }
   ],
   "source": [
    "df = a.get_planet_data()"
   ]
  },
  {
   "cell_type": "markdown",
   "id": "ca43dc67-3115-4539-ac98-b93f0c709003",
   "metadata": {},
   "source": [
    "# Create a new local git repository and remote repository on github named time-series-exercises. Save this work for this module in your time-series-exercises repo.\n",
    "\n",
    "    The end result of this exercise should be a file named acquire.py.\n",
    "\n",
    "**Using the code from the lesson as a guide and the REST API from https://swapi.dev/ as we did in the lesson, create a dataframe named people that has all of the data for people.**\n",
    "1. Do the same thing, but for planets.\n",
    "2. Extract the data for starships.\n",
    "3. Save the data in your files to local csv files so that it will be faster to access in the future.\n",
    "4. Combine the data from your three separate dataframes into one large dataframe.\n",
    "5. Acquire the Open Power Systems Data for Germany, which has been rapidly expanding its renewable energy production in recent years. The data set includes country-wide totals of electricity consumption, wind power production, and solar power production for 2006-2017. You can get the data here: https://raw.githubusercontent.com/jenfly/opsd/master/opsd_germany_daily.csv\n",
    "6. Make sure all the work that you have done above is reproducible. That is, you should put the code above into separate functions in the acquire.py file and be able to re-run the functions and get the same data."
   ]
  },
  {
   "cell_type": "markdown",
   "id": "be14c511-d2f1-4f2d-9a47-6c91e3f5d248",
   "metadata": {},
   "source": [
    "## Imports "
   ]
  },
  {
   "cell_type": "code",
   "execution_count": 14,
   "id": "4c24b409-aa9b-4a44-af02-59f473801998",
   "metadata": {},
   "outputs": [],
   "source": [
    "## New library \n",
    "import requests\n",
    "import numpy as np \n",
    "import pandas as pd\n",
    "import os \n",
    "\n",
    "root_url = 'http://swapi.dev/api'\n",
    "def get_api_resources(root_url):\n",
    "    '''\n",
    "    get_api_resources takes in a root url, and will parse the available\n",
    "    resources within and display them to the user\n",
    "    '''\n",
    "    response = requests.get(root_url)\n",
    "    resources = response.json()\n",
    "    for key, value in resources.items():\n",
    "        print(f'{key}: {value}\\n')\n"
   ]
  },
  {
   "cell_type": "markdown",
   "id": "99985df5-19e1-44b9-b499-3f295a088462",
   "metadata": {},
   "source": [
    "# Do the same thing, but for planets."
   ]
  },
  {
   "cell_type": "code",
   "execution_count": 17,
   "id": "681140b4-00e9-46f4-90f6-5360406f0e1c",
   "metadata": {},
   "outputs": [
    {
     "name": "stdout",
     "output_type": "stream",
     "text": [
      "people: https://swapi.dev/api/people/\n",
      "\n",
      "planets: https://swapi.dev/api/planets/\n",
      "\n",
      "films: https://swapi.dev/api/films/\n",
      "\n",
      "species: https://swapi.dev/api/species/\n",
      "\n",
      "vehicles: https://swapi.dev/api/vehicles/\n",
      "\n",
      "starships: https://swapi.dev/api/starships/\n",
      "\n"
     ]
    }
   ],
   "source": [
    "test = get_api_resources(root_url)"
   ]
  },
  {
   "cell_type": "code",
   "execution_count": 60,
   "id": "f3c26fc6-1d25-4a10-81f8-28e090b0aac6",
   "metadata": {},
   "outputs": [],
   "source": [
    "r = requests.get( 'https://swapi.dev/api/planets/')\n",
    "planets = r.json()"
   ]
  },
  {
   "cell_type": "code",
   "execution_count": 61,
   "id": "aac2091f-bdc7-434a-9f46-04943c820240",
   "metadata": {},
   "outputs": [
    {
     "data": {
      "text/plain": [
       "dict_keys(['count', 'next', 'previous', 'results'])"
      ]
     },
     "execution_count": 61,
     "metadata": {},
     "output_type": "execute_result"
    }
   ],
   "source": [
    "planets.keys()"
   ]
  },
  {
   "cell_type": "code",
   "execution_count": 58,
   "id": "87451752-8c29-42f0-8377-5bfcee125c65",
   "metadata": {},
   "outputs": [],
   "source": [
    "df = pd.DataFrame(planets['results'])"
   ]
  },
  {
   "cell_type": "code",
   "execution_count": 73,
   "id": "6f40f31e-bd5f-48ba-950b-9a8c9e7defd9",
   "metadata": {},
   "outputs": [],
   "source": [
    "next_page = planets['next']\n",
    "number_of_planets = planets['count']\n",
    "previous_page = planets['previous']"
   ]
  },
  {
   "cell_type": "code",
   "execution_count": 85,
   "id": "d697c907-0a48-42b9-8e65-165a072050d5",
   "metadata": {},
   "outputs": [
    {
     "data": {
      "text/html": [
       "<div>\n",
       "<style scoped>\n",
       "    .dataframe tbody tr th:only-of-type {\n",
       "        vertical-align: middle;\n",
       "    }\n",
       "\n",
       "    .dataframe tbody tr th {\n",
       "        vertical-align: top;\n",
       "    }\n",
       "\n",
       "    .dataframe thead th {\n",
       "        text-align: right;\n",
       "    }\n",
       "</style>\n",
       "<table border=\"1\" class=\"dataframe\">\n",
       "  <thead>\n",
       "    <tr style=\"text-align: right;\">\n",
       "      <th></th>\n",
       "      <th>level_0</th>\n",
       "      <th>index</th>\n",
       "      <th>name</th>\n",
       "      <th>rotation_period</th>\n",
       "      <th>orbital_period</th>\n",
       "      <th>diameter</th>\n",
       "      <th>climate</th>\n",
       "      <th>gravity</th>\n",
       "      <th>terrain</th>\n",
       "      <th>surface_water</th>\n",
       "      <th>population</th>\n",
       "      <th>residents</th>\n",
       "      <th>films</th>\n",
       "      <th>created</th>\n",
       "      <th>edited</th>\n",
       "      <th>url</th>\n",
       "    </tr>\n",
       "  </thead>\n",
       "  <tbody>\n",
       "    <tr>\n",
       "      <th>0</th>\n",
       "      <td>0</td>\n",
       "      <td>0.0</td>\n",
       "      <td>Tatooine</td>\n",
       "      <td>23</td>\n",
       "      <td>304</td>\n",
       "      <td>10465</td>\n",
       "      <td>arid</td>\n",
       "      <td>1 standard</td>\n",
       "      <td>desert</td>\n",
       "      <td>1</td>\n",
       "      <td>200000</td>\n",
       "      <td>[https://swapi.dev/api/people/1/, https://swap...</td>\n",
       "      <td>[https://swapi.dev/api/films/1/, https://swapi...</td>\n",
       "      <td>2014-12-09T13:50:49.641000Z</td>\n",
       "      <td>2014-12-20T20:58:18.411000Z</td>\n",
       "      <td>https://swapi.dev/api/planets/1/</td>\n",
       "    </tr>\n",
       "    <tr>\n",
       "      <th>1</th>\n",
       "      <td>1</td>\n",
       "      <td>1.0</td>\n",
       "      <td>Alderaan</td>\n",
       "      <td>24</td>\n",
       "      <td>364</td>\n",
       "      <td>12500</td>\n",
       "      <td>temperate</td>\n",
       "      <td>1 standard</td>\n",
       "      <td>grasslands, mountains</td>\n",
       "      <td>40</td>\n",
       "      <td>2000000000</td>\n",
       "      <td>[https://swapi.dev/api/people/5/, https://swap...</td>\n",
       "      <td>[https://swapi.dev/api/films/1/, https://swapi...</td>\n",
       "      <td>2014-12-10T11:35:48.479000Z</td>\n",
       "      <td>2014-12-20T20:58:18.420000Z</td>\n",
       "      <td>https://swapi.dev/api/planets/2/</td>\n",
       "    </tr>\n",
       "    <tr>\n",
       "      <th>2</th>\n",
       "      <td>2</td>\n",
       "      <td>2.0</td>\n",
       "      <td>Yavin IV</td>\n",
       "      <td>24</td>\n",
       "      <td>4818</td>\n",
       "      <td>10200</td>\n",
       "      <td>temperate, tropical</td>\n",
       "      <td>1 standard</td>\n",
       "      <td>jungle, rainforests</td>\n",
       "      <td>8</td>\n",
       "      <td>1000</td>\n",
       "      <td>[]</td>\n",
       "      <td>[https://swapi.dev/api/films/1/]</td>\n",
       "      <td>2014-12-10T11:37:19.144000Z</td>\n",
       "      <td>2014-12-20T20:58:18.421000Z</td>\n",
       "      <td>https://swapi.dev/api/planets/3/</td>\n",
       "    </tr>\n",
       "    <tr>\n",
       "      <th>3</th>\n",
       "      <td>3</td>\n",
       "      <td>3.0</td>\n",
       "      <td>Hoth</td>\n",
       "      <td>23</td>\n",
       "      <td>549</td>\n",
       "      <td>7200</td>\n",
       "      <td>frozen</td>\n",
       "      <td>1.1 standard</td>\n",
       "      <td>tundra, ice caves, mountain ranges</td>\n",
       "      <td>100</td>\n",
       "      <td>unknown</td>\n",
       "      <td>[]</td>\n",
       "      <td>[https://swapi.dev/api/films/2/]</td>\n",
       "      <td>2014-12-10T11:39:13.934000Z</td>\n",
       "      <td>2014-12-20T20:58:18.423000Z</td>\n",
       "      <td>https://swapi.dev/api/planets/4/</td>\n",
       "    </tr>\n",
       "    <tr>\n",
       "      <th>4</th>\n",
       "      <td>4</td>\n",
       "      <td>4.0</td>\n",
       "      <td>Dagobah</td>\n",
       "      <td>23</td>\n",
       "      <td>341</td>\n",
       "      <td>8900</td>\n",
       "      <td>murky</td>\n",
       "      <td>N/A</td>\n",
       "      <td>swamp, jungles</td>\n",
       "      <td>8</td>\n",
       "      <td>unknown</td>\n",
       "      <td>[]</td>\n",
       "      <td>[https://swapi.dev/api/films/2/, https://swapi...</td>\n",
       "      <td>2014-12-10T11:42:22.590000Z</td>\n",
       "      <td>2014-12-20T20:58:18.425000Z</td>\n",
       "      <td>https://swapi.dev/api/planets/5/</td>\n",
       "    </tr>\n",
       "  </tbody>\n",
       "</table>\n",
       "</div>"
      ],
      "text/plain": [
       "   level_0  index      name rotation_period orbital_period diameter  \\\n",
       "0        0    0.0  Tatooine              23            304    10465   \n",
       "1        1    1.0  Alderaan              24            364    12500   \n",
       "2        2    2.0  Yavin IV              24           4818    10200   \n",
       "3        3    3.0      Hoth              23            549     7200   \n",
       "4        4    4.0   Dagobah              23            341     8900   \n",
       "\n",
       "               climate       gravity                             terrain  \\\n",
       "0                 arid    1 standard                              desert   \n",
       "1            temperate    1 standard               grasslands, mountains   \n",
       "2  temperate, tropical    1 standard                 jungle, rainforests   \n",
       "3               frozen  1.1 standard  tundra, ice caves, mountain ranges   \n",
       "4                murky           N/A                      swamp, jungles   \n",
       "\n",
       "  surface_water  population  \\\n",
       "0             1      200000   \n",
       "1            40  2000000000   \n",
       "2             8        1000   \n",
       "3           100     unknown   \n",
       "4             8     unknown   \n",
       "\n",
       "                                           residents  \\\n",
       "0  [https://swapi.dev/api/people/1/, https://swap...   \n",
       "1  [https://swapi.dev/api/people/5/, https://swap...   \n",
       "2                                                 []   \n",
       "3                                                 []   \n",
       "4                                                 []   \n",
       "\n",
       "                                               films  \\\n",
       "0  [https://swapi.dev/api/films/1/, https://swapi...   \n",
       "1  [https://swapi.dev/api/films/1/, https://swapi...   \n",
       "2                   [https://swapi.dev/api/films/1/]   \n",
       "3                   [https://swapi.dev/api/films/2/]   \n",
       "4  [https://swapi.dev/api/films/2/, https://swapi...   \n",
       "\n",
       "                       created                       edited  \\\n",
       "0  2014-12-09T13:50:49.641000Z  2014-12-20T20:58:18.411000Z   \n",
       "1  2014-12-10T11:35:48.479000Z  2014-12-20T20:58:18.420000Z   \n",
       "2  2014-12-10T11:37:19.144000Z  2014-12-20T20:58:18.421000Z   \n",
       "3  2014-12-10T11:39:13.934000Z  2014-12-20T20:58:18.423000Z   \n",
       "4  2014-12-10T11:42:22.590000Z  2014-12-20T20:58:18.425000Z   \n",
       "\n",
       "                                url  \n",
       "0  https://swapi.dev/api/planets/1/  \n",
       "1  https://swapi.dev/api/planets/2/  \n",
       "2  https://swapi.dev/api/planets/3/  \n",
       "3  https://swapi.dev/api/planets/4/  \n",
       "4  https://swapi.dev/api/planets/5/  "
      ]
     },
     "execution_count": 85,
     "metadata": {},
     "output_type": "execute_result"
    }
   ],
   "source": [
    "planets = requests.get(next_page)\n",
    "planets = planets.json()\n",
    "df2 = pd.DataFrame(planets['results'])\n",
    "concat_me = [df,df2]\n",
    "df = pd.concat(concat_me).reset_index()\n",
    "df.head()"
   ]
  },
  {
   "cell_type": "code",
   "execution_count": 88,
   "id": "39aa3504-3a4f-4d1a-b378-a62683a59a6d",
   "metadata": {},
   "outputs": [],
   "source": [
    "planets = requests.get(planets['next'])"
   ]
  },
  {
   "cell_type": "code",
   "execution_count": 89,
   "id": "5d10ca77-7f78-4b2d-94fc-36c145e3fc43",
   "metadata": {},
   "outputs": [],
   "source": [
    "planets = planets.json()"
   ]
  },
  {
   "cell_type": "code",
   "execution_count": 92,
   "id": "7e0c5075-6fb5-4139-b753-284a586f791e",
   "metadata": {},
   "outputs": [
    {
     "ename": "ValueError",
     "evalue": "cannot insert level_0, already exists",
     "output_type": "error",
     "traceback": [
      "\u001b[0;31m---------------------------------------------------------------------------\u001b[0m",
      "\u001b[0;31mValueError\u001b[0m                                Traceback (most recent call last)",
      "Cell \u001b[0;32mIn[92], line 3\u001b[0m\n\u001b[1;32m      1\u001b[0m df2 \u001b[38;5;241m=\u001b[39m pd\u001b[38;5;241m.\u001b[39mDataFrame(planets[\u001b[38;5;124m'\u001b[39m\u001b[38;5;124mresults\u001b[39m\u001b[38;5;124m'\u001b[39m])\n\u001b[1;32m      2\u001b[0m concat_me_1 \u001b[38;5;241m=\u001b[39m [df,df2]\n\u001b[0;32m----> 3\u001b[0m df \u001b[38;5;241m=\u001b[39m \u001b[43mpd\u001b[49m\u001b[38;5;241;43m.\u001b[39;49m\u001b[43mconcat\u001b[49m\u001b[43m(\u001b[49m\u001b[43mconcat_me\u001b[49m\u001b[43m)\u001b[49m\u001b[38;5;241;43m.\u001b[39;49m\u001b[43mreset_index\u001b[49m\u001b[43m(\u001b[49m\u001b[43m)\u001b[49m\n\u001b[1;32m      4\u001b[0m df\u001b[38;5;241m.\u001b[39mhead()\n",
      "File \u001b[0;32m~/opt/anaconda3/lib/python3.9/site-packages/pandas/util/_decorators.py:311\u001b[0m, in \u001b[0;36mdeprecate_nonkeyword_arguments.<locals>.decorate.<locals>.wrapper\u001b[0;34m(*args, **kwargs)\u001b[0m\n\u001b[1;32m    305\u001b[0m \u001b[38;5;28;01mif\u001b[39;00m \u001b[38;5;28mlen\u001b[39m(args) \u001b[38;5;241m>\u001b[39m num_allow_args:\n\u001b[1;32m    306\u001b[0m     warnings\u001b[38;5;241m.\u001b[39mwarn(\n\u001b[1;32m    307\u001b[0m         msg\u001b[38;5;241m.\u001b[39mformat(arguments\u001b[38;5;241m=\u001b[39marguments),\n\u001b[1;32m    308\u001b[0m         \u001b[38;5;167;01mFutureWarning\u001b[39;00m,\n\u001b[1;32m    309\u001b[0m         stacklevel\u001b[38;5;241m=\u001b[39mstacklevel,\n\u001b[1;32m    310\u001b[0m     )\n\u001b[0;32m--> 311\u001b[0m \u001b[38;5;28;01mreturn\u001b[39;00m \u001b[43mfunc\u001b[49m\u001b[43m(\u001b[49m\u001b[38;5;241;43m*\u001b[39;49m\u001b[43margs\u001b[49m\u001b[43m,\u001b[49m\u001b[43m \u001b[49m\u001b[38;5;241;43m*\u001b[39;49m\u001b[38;5;241;43m*\u001b[39;49m\u001b[43mkwargs\u001b[49m\u001b[43m)\u001b[49m\n",
      "File \u001b[0;32m~/opt/anaconda3/lib/python3.9/site-packages/pandas/core/frame.py:5848\u001b[0m, in \u001b[0;36mDataFrame.reset_index\u001b[0;34m(self, level, drop, inplace, col_level, col_fill)\u001b[0m\n\u001b[1;32m   5842\u001b[0m         \u001b[38;5;28;01mif\u001b[39;00m lab \u001b[38;5;129;01mis\u001b[39;00m \u001b[38;5;129;01mnot\u001b[39;00m \u001b[38;5;28;01mNone\u001b[39;00m:\n\u001b[1;32m   5843\u001b[0m             \u001b[38;5;66;03m# if we have the codes, extract the values with a mask\u001b[39;00m\n\u001b[1;32m   5844\u001b[0m             level_values \u001b[38;5;241m=\u001b[39m algorithms\u001b[38;5;241m.\u001b[39mtake(\n\u001b[1;32m   5845\u001b[0m                 level_values, lab, allow_fill\u001b[38;5;241m=\u001b[39m\u001b[38;5;28;01mTrue\u001b[39;00m, fill_value\u001b[38;5;241m=\u001b[39mlev\u001b[38;5;241m.\u001b[39m_na_value\n\u001b[1;32m   5846\u001b[0m             )\n\u001b[0;32m-> 5848\u001b[0m         \u001b[43mnew_obj\u001b[49m\u001b[38;5;241;43m.\u001b[39;49m\u001b[43minsert\u001b[49m\u001b[43m(\u001b[49m\u001b[38;5;241;43m0\u001b[39;49m\u001b[43m,\u001b[49m\u001b[43m \u001b[49m\u001b[43mname\u001b[49m\u001b[43m,\u001b[49m\u001b[43m \u001b[49m\u001b[43mlevel_values\u001b[49m\u001b[43m)\u001b[49m\n\u001b[1;32m   5850\u001b[0m new_obj\u001b[38;5;241m.\u001b[39mindex \u001b[38;5;241m=\u001b[39m new_index\n\u001b[1;32m   5851\u001b[0m \u001b[38;5;28;01mif\u001b[39;00m \u001b[38;5;129;01mnot\u001b[39;00m inplace:\n",
      "File \u001b[0;32m~/opt/anaconda3/lib/python3.9/site-packages/pandas/core/frame.py:4443\u001b[0m, in \u001b[0;36mDataFrame.insert\u001b[0;34m(self, loc, column, value, allow_duplicates)\u001b[0m\n\u001b[1;32m   4437\u001b[0m     \u001b[38;5;28;01mraise\u001b[39;00m \u001b[38;5;167;01mValueError\u001b[39;00m(\n\u001b[1;32m   4438\u001b[0m         \u001b[38;5;124m\"\u001b[39m\u001b[38;5;124mCannot specify \u001b[39m\u001b[38;5;124m'\u001b[39m\u001b[38;5;124mallow_duplicates=True\u001b[39m\u001b[38;5;124m'\u001b[39m\u001b[38;5;124m when \u001b[39m\u001b[38;5;124m\"\u001b[39m\n\u001b[1;32m   4439\u001b[0m         \u001b[38;5;124m\"\u001b[39m\u001b[38;5;124m'\u001b[39m\u001b[38;5;124mself.flags.allows_duplicate_labels\u001b[39m\u001b[38;5;124m'\u001b[39m\u001b[38;5;124m is False.\u001b[39m\u001b[38;5;124m\"\u001b[39m\n\u001b[1;32m   4440\u001b[0m     )\n\u001b[1;32m   4441\u001b[0m \u001b[38;5;28;01mif\u001b[39;00m \u001b[38;5;129;01mnot\u001b[39;00m allow_duplicates \u001b[38;5;129;01mand\u001b[39;00m column \u001b[38;5;129;01min\u001b[39;00m \u001b[38;5;28mself\u001b[39m\u001b[38;5;241m.\u001b[39mcolumns:\n\u001b[1;32m   4442\u001b[0m     \u001b[38;5;66;03m# Should this be a different kind of error??\u001b[39;00m\n\u001b[0;32m-> 4443\u001b[0m     \u001b[38;5;28;01mraise\u001b[39;00m \u001b[38;5;167;01mValueError\u001b[39;00m(\u001b[38;5;124mf\u001b[39m\u001b[38;5;124m\"\u001b[39m\u001b[38;5;124mcannot insert \u001b[39m\u001b[38;5;132;01m{\u001b[39;00mcolumn\u001b[38;5;132;01m}\u001b[39;00m\u001b[38;5;124m, already exists\u001b[39m\u001b[38;5;124m\"\u001b[39m)\n\u001b[1;32m   4444\u001b[0m \u001b[38;5;28;01mif\u001b[39;00m \u001b[38;5;129;01mnot\u001b[39;00m \u001b[38;5;28misinstance\u001b[39m(loc, \u001b[38;5;28mint\u001b[39m):\n\u001b[1;32m   4445\u001b[0m     \u001b[38;5;28;01mraise\u001b[39;00m \u001b[38;5;167;01mTypeError\u001b[39;00m(\u001b[38;5;124m\"\u001b[39m\u001b[38;5;124mloc must be int\u001b[39m\u001b[38;5;124m\"\u001b[39m)\n",
      "\u001b[0;31mValueError\u001b[0m: cannot insert level_0, already exists"
     ]
    }
   ],
   "source": [
    "df2 = pd.DataFrame(planets['results'])\n",
    "concat_me_1 = [df,df2]\n",
    "df = pd.concat(concat_me).reset_index()\n",
    "df.head()"
   ]
  }
 ],
 "metadata": {
  "kernelspec": {
   "display_name": "Python 3 (ipykernel)",
   "language": "python",
   "name": "python3"
  },
  "language_info": {
   "codemirror_mode": {
    "name": "ipython",
    "version": 3
   },
   "file_extension": ".py",
   "mimetype": "text/x-python",
   "name": "python",
   "nbconvert_exporter": "python",
   "pygments_lexer": "ipython3",
   "version": "3.10.9"
  }
 },
 "nbformat": 4,
 "nbformat_minor": 5
}
