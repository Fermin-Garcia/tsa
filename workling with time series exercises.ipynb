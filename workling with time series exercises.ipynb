{
 "cells": [
  {
   "cell_type": "code",
   "execution_count": 212,
   "id": "b1b6dfd6-203c-46c6-8e62-88bce1aacf9d",
   "metadata": {},
   "outputs": [
    {
     "data": {
      "text/html": [
       "<div>\n",
       "<style scoped>\n",
       "    .dataframe tbody tr th:only-of-type {\n",
       "        vertical-align: middle;\n",
       "    }\n",
       "\n",
       "    .dataframe tbody tr th {\n",
       "        vertical-align: top;\n",
       "    }\n",
       "\n",
       "    .dataframe thead th {\n",
       "        text-align: right;\n",
       "    }\n",
       "</style>\n",
       "<table border=\"1\" class=\"dataframe\">\n",
       "  <thead>\n",
       "    <tr style=\"text-align: right;\">\n",
       "      <th></th>\n",
       "      <th>temp</th>\n",
       "      <th>date</th>\n",
       "    </tr>\n",
       "  </thead>\n",
       "  <tbody>\n",
       "    <tr>\n",
       "      <th>0</th>\n",
       "      <td>47.8</td>\n",
       "      <td>2010-01-01 00:00:00</td>\n",
       "    </tr>\n",
       "    <tr>\n",
       "      <th>1</th>\n",
       "      <td>47.4</td>\n",
       "      <td>2010-01-01 01:00:00</td>\n",
       "    </tr>\n",
       "    <tr>\n",
       "      <th>2</th>\n",
       "      <td>46.9</td>\n",
       "      <td>2010-01-01 02:00:00</td>\n",
       "    </tr>\n",
       "    <tr>\n",
       "      <th>3</th>\n",
       "      <td>46.5</td>\n",
       "      <td>2010-01-01 03:00:00</td>\n",
       "    </tr>\n",
       "    <tr>\n",
       "      <th>4</th>\n",
       "      <td>46.0</td>\n",
       "      <td>2010-01-01 04:00:00</td>\n",
       "    </tr>\n",
       "  </tbody>\n",
       "</table>\n",
       "</div>"
      ],
      "text/plain": [
       "   temp                date\n",
       "0  47.8 2010-01-01 00:00:00\n",
       "1  47.4 2010-01-01 01:00:00\n",
       "2  46.9 2010-01-01 02:00:00\n",
       "3  46.5 2010-01-01 03:00:00\n",
       "4  46.0 2010-01-01 04:00:00"
      ]
     },
     "execution_count": 212,
     "metadata": {},
     "output_type": "execute_result"
    }
   ],
   "source": [
    "from vega_datasets import data\n",
    "import pandas as pd\n",
    "import matplotlib.pyplot as plt \n",
    "import seaborn as sns \n",
    "\n",
    "df = data.sf_temps()\n",
    "df.head()"
   ]
  },
  {
   "cell_type": "markdown",
   "id": "3f20a45a-ab7e-488d-9ea9-9f4372469287",
   "metadata": {},
   "source": [
    "# Use the above dataset for the following exercises:"
   ]
  },
  {
   "cell_type": "markdown",
   "id": "0413762d-2396-4980-95ac-c66b0659280c",
   "metadata": {},
   "source": [
    "## Resample by the day and take the average temperature. Visualize the average temperature over time."
   ]
  },
  {
   "cell_type": "code",
   "execution_count": 13,
   "id": "9926ee13-e1de-4b71-9ae3-dfeaac08d467",
   "metadata": {},
   "outputs": [],
   "source": [
    "# Since .resampling can only be done wotha. data frame that has date_time as an index:\n",
    "\n",
    "# First, we set date column equal to the datetime.\n",
    "\n",
    "df['date'] = pd.to_datetime(df.date)"
   ]
  },
  {
   "cell_type": "code",
   "execution_count": 14,
   "id": "0e2005e5-d2be-41e6-b2c5-375925d451e6",
   "metadata": {},
   "outputs": [],
   "source": [
    "# then we set index equal to the date column then we sort the index in chronological order\n",
    "df=df.set_index('date').sort_index()"
   ]
  },
  {
   "cell_type": "code",
   "execution_count": 15,
   "id": "688617e3-9453-4c57-8c34-2376cac9e664",
   "metadata": {},
   "outputs": [
    {
     "data": {
      "text/html": [
       "<div>\n",
       "<style scoped>\n",
       "    .dataframe tbody tr th:only-of-type {\n",
       "        vertical-align: middle;\n",
       "    }\n",
       "\n",
       "    .dataframe tbody tr th {\n",
       "        vertical-align: top;\n",
       "    }\n",
       "\n",
       "    .dataframe thead th {\n",
       "        text-align: right;\n",
       "    }\n",
       "</style>\n",
       "<table border=\"1\" class=\"dataframe\">\n",
       "  <thead>\n",
       "    <tr style=\"text-align: right;\">\n",
       "      <th></th>\n",
       "      <th>temp</th>\n",
       "    </tr>\n",
       "    <tr>\n",
       "      <th>date</th>\n",
       "      <th></th>\n",
       "    </tr>\n",
       "  </thead>\n",
       "  <tbody>\n",
       "    <tr>\n",
       "      <th>2010-01-01</th>\n",
       "      <td>49.170833</td>\n",
       "    </tr>\n",
       "    <tr>\n",
       "      <th>2010-01-02</th>\n",
       "      <td>49.304167</td>\n",
       "    </tr>\n",
       "    <tr>\n",
       "      <th>2010-01-03</th>\n",
       "      <td>49.391667</td>\n",
       "    </tr>\n",
       "    <tr>\n",
       "      <th>2010-01-04</th>\n",
       "      <td>49.445833</td>\n",
       "    </tr>\n",
       "    <tr>\n",
       "      <th>2010-01-05</th>\n",
       "      <td>49.491667</td>\n",
       "    </tr>\n",
       "    <tr>\n",
       "      <th>...</th>\n",
       "      <td>...</td>\n",
       "    </tr>\n",
       "    <tr>\n",
       "      <th>2010-12-27</th>\n",
       "      <td>48.991667</td>\n",
       "    </tr>\n",
       "    <tr>\n",
       "      <th>2010-12-28</th>\n",
       "      <td>49.000000</td>\n",
       "    </tr>\n",
       "    <tr>\n",
       "      <th>2010-12-29</th>\n",
       "      <td>49.012500</td>\n",
       "    </tr>\n",
       "    <tr>\n",
       "      <th>2010-12-30</th>\n",
       "      <td>49.012500</td>\n",
       "    </tr>\n",
       "    <tr>\n",
       "      <th>2010-12-31</th>\n",
       "      <td>49.116667</td>\n",
       "    </tr>\n",
       "  </tbody>\n",
       "</table>\n",
       "<p>365 rows × 1 columns</p>\n",
       "</div>"
      ],
      "text/plain": [
       "                 temp\n",
       "date                 \n",
       "2010-01-01  49.170833\n",
       "2010-01-02  49.304167\n",
       "2010-01-03  49.391667\n",
       "2010-01-04  49.445833\n",
       "2010-01-05  49.491667\n",
       "...               ...\n",
       "2010-12-27  48.991667\n",
       "2010-12-28  49.000000\n",
       "2010-12-29  49.012500\n",
       "2010-12-30  49.012500\n",
       "2010-12-31  49.116667\n",
       "\n",
       "[365 rows x 1 columns]"
      ]
     },
     "execution_count": 15,
     "metadata": {},
     "output_type": "execute_result"
    }
   ],
   "source": [
    "# Here we resample base off date and resampling \n",
    "df.resample('d').mean()"
   ]
  },
  {
   "cell_type": "markdown",
   "id": "550076d1-9031-42c5-a56d-7cfd2d6d756f",
   "metadata": {},
   "source": [
    "## Write the code necessary to visualize the minimum temperature over time."
   ]
  },
  {
   "cell_type": "code",
   "execution_count": 23,
   "id": "ddaf9f6b-0ee7-484d-8074-5ad51b425b3e",
   "metadata": {},
   "outputs": [
    {
     "data": {
      "image/png": "[encoded data removed]",
      "text/plain": [
       "<Figure size 640x480 with 1 Axes>"
      ]
     },
     "metadata": {},
     "output_type": "display_data"
    }
   ],
   "source": [
    "df.resample('d').min().plot()\n",
    "plt.show()"
   ]
  },
  {
   "cell_type": "markdown",
   "id": "50eed213-a6c0-4f37-91b5-8d53ce63fcac",
   "metadata": {},
   "source": [
    "## Write the code necessary to visualize the maximum temperature over time."
   ]
  },
  {
   "cell_type": "code",
   "execution_count": 24,
   "id": "8e813c0d-1c27-4537-ac6d-6e16f44b0009",
   "metadata": {},
   "outputs": [
    {
     "data": {
      "image/png": "[encoded data removed]",
      "text/plain": [
       "<Figure size 640x480 with 1 Axes>"
      ]
     },
     "metadata": {},
     "output_type": "display_data"
    }
   ],
   "source": [
    "df.resample('d').max().plot()\n",
    "plt.show()"
   ]
  },
  {
   "cell_type": "markdown",
   "id": "8d2bd130-1ab6-4671-a682-fdc5df796cef",
   "metadata": {},
   "source": [
    "## Which month is the coldest, on average?"
   ]
  },
  {
   "cell_type": "code",
   "execution_count": 118,
   "id": "45a601a7-9a03-40f2-b675-03ab2b117818",
   "metadata": {},
   "outputs": [],
   "source": [
    "# First we made a new column named month \n",
    "df['month'] = df.index.month_name()\n",
    "\n",
    "# Here we used a groupby month aggon the mean or average tempture by month then we sorted the values based on temp\n",
    "# Then we set ascending to True so we can get a data frame of months witht he coldest being on top, the we saved it to a new variable\n",
    "colest_months_by_avg = df.resample('M').mean().sort_values(by=['temp'], ascending=True)"
   ]
  },
  {
   "cell_type": "code",
   "execution_count": 1,
   "id": "9df36f19-6b62-4e4f-8760-7f5bb21cb794",
   "metadata": {},
   "outputs": [
    {
     "ename": "NameError",
     "evalue": "name 'colest_months_by_average' is not defined",
     "output_type": "error",
     "traceback": [
      "\u001b[0;31m---------------------------------------------------------------------------\u001b[0m",
      "\u001b[0;31mNameError\u001b[0m                                 Traceback (most recent call last)",
      "Cell \u001b[0;32mIn[1], line 2\u001b[0m\n\u001b[1;32m      1\u001b[0m \u001b[38;5;66;03m# Trust but verify our code \u001b[39;00m\n\u001b[0;32m----> 2\u001b[0m \u001b[43mcolest_months_by_average\u001b[49m\n",
      "\u001b[0;31mNameError\u001b[0m: name 'colest_months_by_average' is not defined"
     ]
    }
   ],
   "source": [
    "# Trust but verify our code \n",
    "colest_months_by_average"
   ]
  },
  {
   "cell_type": "code",
   "execution_count": 77,
   "id": "7606e2b7-626b-4749-970e-942892dfdc55",
   "metadata": {},
   "outputs": [
    {
     "data": {
      "text/html": [
       "<div>\n",
       "<style scoped>\n",
       "    .dataframe tbody tr th:only-of-type {\n",
       "        vertical-align: middle;\n",
       "    }\n",
       "\n",
       "    .dataframe tbody tr th {\n",
       "        vertical-align: top;\n",
       "    }\n",
       "\n",
       "    .dataframe thead th {\n",
       "        text-align: right;\n",
       "    }\n",
       "</style>\n",
       "<table border=\"1\" class=\"dataframe\">\n",
       "  <thead>\n",
       "    <tr style=\"text-align: right;\">\n",
       "      <th></th>\n",
       "      <th>temp</th>\n",
       "    </tr>\n",
       "    <tr>\n",
       "      <th>month</th>\n",
       "      <th></th>\n",
       "    </tr>\n",
       "  </thead>\n",
       "  <tbody>\n",
       "    <tr>\n",
       "      <th>September</th>\n",
       "      <td>62.487083</td>\n",
       "    </tr>\n",
       "    <tr>\n",
       "      <th>August</th>\n",
       "      <td>62.405376</td>\n",
       "    </tr>\n",
       "    <tr>\n",
       "      <th>July</th>\n",
       "      <td>61.765457</td>\n",
       "    </tr>\n",
       "    <tr>\n",
       "      <th>June</th>\n",
       "      <td>60.444722</td>\n",
       "    </tr>\n",
       "    <tr>\n",
       "      <th>October</th>\n",
       "      <td>60.253091</td>\n",
       "    </tr>\n",
       "    <tr>\n",
       "      <th>May</th>\n",
       "      <td>57.970968</td>\n",
       "    </tr>\n",
       "    <tr>\n",
       "      <th>April</th>\n",
       "      <td>55.633056</td>\n",
       "    </tr>\n",
       "    <tr>\n",
       "      <th>November</th>\n",
       "      <td>55.185139</td>\n",
       "    </tr>\n",
       "    <tr>\n",
       "      <th>March</th>\n",
       "      <td>53.956528</td>\n",
       "    </tr>\n",
       "    <tr>\n",
       "      <th>February</th>\n",
       "      <td>52.243899</td>\n",
       "    </tr>\n",
       "    <tr>\n",
       "      <th>December</th>\n",
       "      <td>50.498253</td>\n",
       "    </tr>\n",
       "    <tr>\n",
       "      <th>January</th>\n",
       "      <td>49.984140</td>\n",
       "    </tr>\n",
       "  </tbody>\n",
       "</table>\n",
       "</div>"
      ],
      "text/plain": [
       "                temp\n",
       "month               \n",
       "September  62.487083\n",
       "August     62.405376\n",
       "July       61.765457\n",
       "June       60.444722\n",
       "October    60.253091\n",
       "May        57.970968\n",
       "April      55.633056\n",
       "November   55.185139\n",
       "March      53.956528\n",
       "February   52.243899\n",
       "December   50.498253\n",
       "January    49.984140"
      ]
     },
     "execution_count": 77,
     "metadata": {},
     "output_type": "execute_result"
    }
   ],
   "source": [
    "# Here we used a groupby month aggon the mean or average tempture by month then we sorted the values based on temp\n",
    "# Then we set ascending to false so we can get a data frame of months witht he hottest being on top, the we saved it to a new variable\n",
    "hottest_months_by_avg = df.groupby('month').mean().sort_values(by=['temp'], ascending=False)\n",
    "hottest_months_by_avg"
   ]
  },
  {
   "cell_type": "markdown",
   "id": "ce54530d-937b-45ab-be20-4f5a963b2fae",
   "metadata": {},
   "source": [
    "## Resample by the day and calculate the min and max temp for the day (Hint: .agg(['min', 'max'])).Use this resampled dataframe to calculate the change in temperature for the day.Which month has the highest daily temperature variability?"
   ]
  },
  {
   "cell_type": "code",
   "execution_count": 79,
   "id": "e1e32474-3604-4b7b-afbe-2d83ff9e4869",
   "metadata": {},
   "outputs": [],
   "source": [
    "df['day'] = df.index.day_name()"
   ]
  },
  {
   "cell_type": "code",
   "execution_count": 87,
   "id": "c31929d6-3259-42d5-98fd-c71491ee5e0f",
   "metadata": {},
   "outputs": [],
   "source": [
    "min_max_df = df.resample('D').temp.agg(['min','max'])"
   ]
  },
  {
   "cell_type": "code",
   "execution_count": 90,
   "id": "dad009ec-bd44-4acb-a149-4450ed1e604e",
   "metadata": {},
   "outputs": [],
   "source": [
    "min_max_df['change_in_temp'] = (min_max_df['max'] - min_max_df['min'])"
   ]
  },
  {
   "cell_type": "code",
   "execution_count": 91,
   "id": "f1fe762a-1dba-4294-b463-8f94d0173a27",
   "metadata": {},
   "outputs": [
    {
     "data": {
      "text/html": [
       "<div>\n",
       "<style scoped>\n",
       "    .dataframe tbody tr th:only-of-type {\n",
       "        vertical-align: middle;\n",
       "    }\n",
       "\n",
       "    .dataframe tbody tr th {\n",
       "        vertical-align: top;\n",
       "    }\n",
       "\n",
       "    .dataframe thead th {\n",
       "        text-align: right;\n",
       "    }\n",
       "</style>\n",
       "<table border=\"1\" class=\"dataframe\">\n",
       "  <thead>\n",
       "    <tr style=\"text-align: right;\">\n",
       "      <th></th>\n",
       "      <th>min</th>\n",
       "      <th>max</th>\n",
       "      <th>change_in_temp</th>\n",
       "    </tr>\n",
       "    <tr>\n",
       "      <th>date</th>\n",
       "      <th></th>\n",
       "      <th></th>\n",
       "      <th></th>\n",
       "    </tr>\n",
       "  </thead>\n",
       "  <tbody>\n",
       "    <tr>\n",
       "      <th>2010-01-01</th>\n",
       "      <td>45.8</td>\n",
       "      <td>53.3</td>\n",
       "      <td>7.5</td>\n",
       "    </tr>\n",
       "    <tr>\n",
       "      <th>2010-01-02</th>\n",
       "      <td>46.0</td>\n",
       "      <td>53.4</td>\n",
       "      <td>7.4</td>\n",
       "    </tr>\n",
       "    <tr>\n",
       "      <th>2010-01-03</th>\n",
       "      <td>46.1</td>\n",
       "      <td>53.5</td>\n",
       "      <td>7.4</td>\n",
       "    </tr>\n",
       "    <tr>\n",
       "      <th>2010-01-04</th>\n",
       "      <td>46.1</td>\n",
       "      <td>53.6</td>\n",
       "      <td>7.5</td>\n",
       "    </tr>\n",
       "    <tr>\n",
       "      <th>2010-01-05</th>\n",
       "      <td>46.1</td>\n",
       "      <td>53.8</td>\n",
       "      <td>7.7</td>\n",
       "    </tr>\n",
       "    <tr>\n",
       "      <th>...</th>\n",
       "      <td>...</td>\n",
       "      <td>...</td>\n",
       "      <td>...</td>\n",
       "    </tr>\n",
       "    <tr>\n",
       "      <th>2010-12-27</th>\n",
       "      <td>45.6</td>\n",
       "      <td>53.2</td>\n",
       "      <td>7.6</td>\n",
       "    </tr>\n",
       "    <tr>\n",
       "      <th>2010-12-28</th>\n",
       "      <td>45.6</td>\n",
       "      <td>53.2</td>\n",
       "      <td>7.6</td>\n",
       "    </tr>\n",
       "    <tr>\n",
       "      <th>2010-12-29</th>\n",
       "      <td>45.6</td>\n",
       "      <td>53.2</td>\n",
       "      <td>7.6</td>\n",
       "    </tr>\n",
       "    <tr>\n",
       "      <th>2010-12-30</th>\n",
       "      <td>45.6</td>\n",
       "      <td>53.2</td>\n",
       "      <td>7.6</td>\n",
       "    </tr>\n",
       "    <tr>\n",
       "      <th>2010-12-31</th>\n",
       "      <td>45.8</td>\n",
       "      <td>53.2</td>\n",
       "      <td>7.4</td>\n",
       "    </tr>\n",
       "  </tbody>\n",
       "</table>\n",
       "<p>365 rows × 3 columns</p>\n",
       "</div>"
      ],
      "text/plain": [
       "             min   max  change_in_temp\n",
       "date                                  \n",
       "2010-01-01  45.8  53.3             7.5\n",
       "2010-01-02  46.0  53.4             7.4\n",
       "2010-01-03  46.1  53.5             7.4\n",
       "2010-01-04  46.1  53.6             7.5\n",
       "2010-01-05  46.1  53.8             7.7\n",
       "...          ...   ...             ...\n",
       "2010-12-27  45.6  53.2             7.6\n",
       "2010-12-28  45.6  53.2             7.6\n",
       "2010-12-29  45.6  53.2             7.6\n",
       "2010-12-30  45.6  53.2             7.6\n",
       "2010-12-31  45.8  53.2             7.4\n",
       "\n",
       "[365 rows x 3 columns]"
      ]
     },
     "execution_count": 91,
     "metadata": {},
     "output_type": "execute_result"
    }
   ],
   "source": [
    "min_max_df"
   ]
  },
  {
   "cell_type": "markdown",
   "id": "b34a9c8c-85bd-4c8d-b944-bf78b692109f",
   "metadata": {},
   "source": [
    "## Bonus: Visualize the daily min, average, and max temperature over time on a single line plot, i.e. the min, average, and maximum temperature should be 3 seperate lines."
   ]
  },
  {
   "cell_type": "markdown",
   "id": "955f8577-d53c-4942-8427-f09d9a624bbe",
   "metadata": {},
   "source": [
    "# seatle database"
   ]
  },
  {
   "cell_type": "code",
   "execution_count": 93,
   "id": "7432e4d5-90d5-4cbc-841d-2143fdf6845a",
   "metadata": {},
   "outputs": [],
   "source": [
    "data = data.seattle_weather()"
   ]
  },
  {
   "cell_type": "markdown",
   "id": "07c92595-9dc0-421c-8d51-0ff049ed201e",
   "metadata": {},
   "source": [
    "# Use the above dataset for the following exercises:"
   ]
  },
  {
   "cell_type": "code",
   "execution_count": null,
   "id": "776bdfeb-6c71-45e0-ad85-adac081160e1",
   "metadata": {},
   "outputs": [],
   "source": [
    "# First convert our date column to date time so we can effectivly use it \n",
    "data['date'] = pd.to_datetime(data.date)\n",
    "\n",
    "# Then we will set the date column the index\n",
    "\n",
    "data = data.set_index('date').sort_index()"
   ]
  },
  {
   "cell_type": "markdown",
   "id": "9259b3a3-bfd7-4142-99cc-7d9a4e352492",
   "metadata": {},
   "source": [
    "## Which year and month combination has the highest amount of precipitation?"
   ]
  },
  {
   "cell_type": "code",
   "execution_count": 156,
   "id": "e7e81610-ee8d-441e-b93d-42360fb80d50",
   "metadata": {},
   "outputs": [],
   "source": [
    "max_data = data.resample('M').sum().sort_values(by='precipitation',ascending=False)\n",
    "\n"
   ]
  },
  {
   "cell_type": "code",
   "execution_count": 157,
   "id": "10b6daff-fd44-4124-a539-68ee35f325b1",
   "metadata": {},
   "outputs": [
    {
     "data": {
      "text/html": [
       "<div>\n",
       "<style scoped>\n",
       "    .dataframe tbody tr th:only-of-type {\n",
       "        vertical-align: middle;\n",
       "    }\n",
       "\n",
       "    .dataframe tbody tr th {\n",
       "        vertical-align: top;\n",
       "    }\n",
       "\n",
       "    .dataframe thead th {\n",
       "        text-align: right;\n",
       "    }\n",
       "</style>\n",
       "<table border=\"1\" class=\"dataframe\">\n",
       "  <thead>\n",
       "    <tr style=\"text-align: right;\">\n",
       "      <th></th>\n",
       "      <th>precipitation</th>\n",
       "      <th>temp_max</th>\n",
       "      <th>temp_min</th>\n",
       "      <th>wind</th>\n",
       "    </tr>\n",
       "    <tr>\n",
       "      <th>date</th>\n",
       "      <th></th>\n",
       "      <th></th>\n",
       "      <th></th>\n",
       "      <th></th>\n",
       "    </tr>\n",
       "  </thead>\n",
       "  <tbody>\n",
       "    <tr>\n",
       "      <th>2015-12-31</th>\n",
       "      <td>284.5</td>\n",
       "      <td>259.8</td>\n",
       "      <td>118.6</td>\n",
       "      <td>134.6</td>\n",
       "    </tr>\n",
       "    <tr>\n",
       "      <th>2014-03-31</th>\n",
       "      <td>240.0</td>\n",
       "      <td>400.1</td>\n",
       "      <td>168.2</td>\n",
       "      <td>114.0</td>\n",
       "    </tr>\n",
       "    <tr>\n",
       "      <th>2015-11-30</th>\n",
       "      <td>212.6</td>\n",
       "      <td>290.5</td>\n",
       "      <td>104.4</td>\n",
       "      <td>106.4</td>\n",
       "    </tr>\n",
       "    <tr>\n",
       "      <th>2012-11-30</th>\n",
       "      <td>210.5</td>\n",
       "      <td>339.8</td>\n",
       "      <td>156.8</td>\n",
       "      <td>96.6</td>\n",
       "    </tr>\n",
       "    <tr>\n",
       "      <th>2012-03-31</th>\n",
       "      <td>183.0</td>\n",
       "      <td>296.2</td>\n",
       "      <td>88.0</td>\n",
       "      <td>131.7</td>\n",
       "    </tr>\n",
       "  </tbody>\n",
       "</table>\n",
       "</div>"
      ],
      "text/plain": [
       "            precipitation  temp_max  temp_min   wind\n",
       "date                                                \n",
       "2015-12-31          284.5     259.8     118.6  134.6\n",
       "2014-03-31          240.0     400.1     168.2  114.0\n",
       "2015-11-30          212.6     290.5     104.4  106.4\n",
       "2012-11-30          210.5     339.8     156.8   96.6\n",
       "2012-03-31          183.0     296.2      88.0  131.7"
      ]
     },
     "execution_count": 157,
     "metadata": {},
     "output_type": "execute_result"
    }
   ],
   "source": [
    "max_data.head()"
   ]
  },
  {
   "cell_type": "markdown",
   "id": "a32eb693-7060-4afc-be79-cccbae0d9cf3",
   "metadata": {},
   "source": [
    "## Visualize the amount of monthly precipitation over time."
   ]
  },
  {
   "cell_type": "code",
   "execution_count": 159,
   "id": "98fef21c-745f-4990-b51f-c5bae4e40bab",
   "metadata": {},
   "outputs": [
    {
     "data": {
      "text/plain": [
       "<Axes: xlabel='date'>"
      ]
     },
     "execution_count": 159,
     "metadata": {},
     "output_type": "execute_result"
    },
    {
     "data": {
      "image/png": "[encoded data removed]",
      "text/plain": [
       "<Figure size 640x480 with 1 Axes>"
      ]
     },
     "metadata": {},
     "output_type": "display_data"
    }
   ],
   "source": [
    "data.precipitation.plot()"
   ]
  },
  {
   "cell_type": "code",
   "execution_count": 170,
   "id": "5541e1f8-12fd-45a6-acbc-370fd57a42e7",
   "metadata": {},
   "outputs": [
    {
     "data": {
      "image/png": "[encoded data removed]",
      "text/plain": [
       "<Figure size 640x480 with 1 Axes>"
      ]
     },
     "metadata": {},
     "output_type": "display_data"
    }
   ],
   "source": [
    "## Visualize the amount of wind over time. Choose a time interval you think is appropriate.\n",
    "(data.resample('M').mean()).wind.plot()\n",
    "plt.title('avg. wind by month ')\n",
    "plt.show()"
   ]
  },
  {
   "cell_type": "code",
   "execution_count": 172,
   "id": "f9ac2e04-92e7-4c0c-97be-de47411f5436",
   "metadata": {},
   "outputs": [
    {
     "data": {
      "text/html": [
       "<div>\n",
       "<style scoped>\n",
       "    .dataframe tbody tr th:only-of-type {\n",
       "        vertical-align: middle;\n",
       "    }\n",
       "\n",
       "    .dataframe tbody tr th {\n",
       "        vertical-align: top;\n",
       "    }\n",
       "\n",
       "    .dataframe thead th {\n",
       "        text-align: right;\n",
       "    }\n",
       "</style>\n",
       "<table border=\"1\" class=\"dataframe\">\n",
       "  <thead>\n",
       "    <tr style=\"text-align: right;\">\n",
       "      <th></th>\n",
       "      <th>precipitation</th>\n",
       "      <th>temp_max</th>\n",
       "      <th>temp_min</th>\n",
       "      <th>wind</th>\n",
       "    </tr>\n",
       "    <tr>\n",
       "      <th>date</th>\n",
       "      <th></th>\n",
       "      <th></th>\n",
       "      <th></th>\n",
       "      <th></th>\n",
       "    </tr>\n",
       "  </thead>\n",
       "  <tbody>\n",
       "    <tr>\n",
       "      <th>2013-10-31</th>\n",
       "      <td>39.2</td>\n",
       "      <td>441.1</td>\n",
       "      <td>236.8</td>\n",
       "      <td>70.5</td>\n",
       "    </tr>\n",
       "    <tr>\n",
       "      <th>2015-01-31</th>\n",
       "      <td>93.0</td>\n",
       "      <td>314.8</td>\n",
       "      <td>134.9</td>\n",
       "      <td>75.3</td>\n",
       "    </tr>\n",
       "    <tr>\n",
       "      <th>2014-08-31</th>\n",
       "      <td>46.0</td>\n",
       "      <td>817.9</td>\n",
       "      <td>461.7</td>\n",
       "      <td>76.8</td>\n",
       "    </tr>\n",
       "    <tr>\n",
       "      <th>2013-08-31</th>\n",
       "      <td>34.4</td>\n",
       "      <td>809.7</td>\n",
       "      <td>479.9</td>\n",
       "      <td>78.8</td>\n",
       "    </tr>\n",
       "    <tr>\n",
       "      <th>2012-09-30</th>\n",
       "      <td>0.9</td>\n",
       "      <td>686.4</td>\n",
       "      <td>337.3</td>\n",
       "      <td>79.4</td>\n",
       "    </tr>\n",
       "  </tbody>\n",
       "</table>\n",
       "</div>"
      ],
      "text/plain": [
       "            precipitation  temp_max  temp_min  wind\n",
       "date                                               \n",
       "2013-10-31           39.2     441.1     236.8  70.5\n",
       "2015-01-31           93.0     314.8     134.9  75.3\n",
       "2014-08-31           46.0     817.9     461.7  76.8\n",
       "2013-08-31           34.4     809.7     479.9  78.8\n",
       "2012-09-30            0.9     686.4     337.3  79.4"
      ]
     },
     "execution_count": 172,
     "metadata": {},
     "output_type": "execute_result"
    }
   ],
   "source": [
    "## Which year-month combination is the windiest?\n",
    "(data.resample('M').sum().sort_values(by='wind')).head()"
   ]
  },
  {
   "cell_type": "markdown",
   "id": "034f0db2-61b5-4dd6-b5cf-628ab8b8868f",
   "metadata": {},
   "source": [
    "## What's the sunniest year? (Hint: which day has the highest number of days where weather == sun?)"
   ]
  },
  {
   "cell_type": "code",
   "execution_count": 180,
   "id": "4f18580b-ba6b-4ad1-80a7-df309de96a12",
   "metadata": {},
   "outputs": [],
   "source": [
    "# First, we make a new column name is_sun and set it equal to the a bool value so we can aggergate with\n",
    "data['is_sun'] = data.weather == 'sun'"
   ]
  },
  {
   "cell_type": "code",
   "execution_count": 184,
   "id": "f4c5250a-a108-4521-8e86-33af22dd624c",
   "metadata": {},
   "outputs": [
    {
     "data": {
      "text/html": [
       "<div>\n",
       "<style scoped>\n",
       "    .dataframe tbody tr th:only-of-type {\n",
       "        vertical-align: middle;\n",
       "    }\n",
       "\n",
       "    .dataframe tbody tr th {\n",
       "        vertical-align: top;\n",
       "    }\n",
       "\n",
       "    .dataframe thead th {\n",
       "        text-align: right;\n",
       "    }\n",
       "</style>\n",
       "<table border=\"1\" class=\"dataframe\">\n",
       "  <thead>\n",
       "    <tr style=\"text-align: right;\">\n",
       "      <th></th>\n",
       "      <th>precipitation</th>\n",
       "      <th>temp_max</th>\n",
       "      <th>temp_min</th>\n",
       "      <th>wind</th>\n",
       "      <th>is_sun</th>\n",
       "    </tr>\n",
       "    <tr>\n",
       "      <th>date</th>\n",
       "      <th></th>\n",
       "      <th></th>\n",
       "      <th></th>\n",
       "      <th></th>\n",
       "      <th></th>\n",
       "    </tr>\n",
       "  </thead>\n",
       "  <tbody>\n",
       "    <tr>\n",
       "      <th>2014-12-31</th>\n",
       "      <td>1232.8</td>\n",
       "      <td>6203.5</td>\n",
       "      <td>3161.8</td>\n",
       "      <td>1236.5</td>\n",
       "      <td>211</td>\n",
       "    </tr>\n",
       "    <tr>\n",
       "      <th>2013-12-31</th>\n",
       "      <td>828.0</td>\n",
       "      <td>5861.5</td>\n",
       "      <td>2976.2</td>\n",
       "      <td>1100.8</td>\n",
       "      <td>205</td>\n",
       "    </tr>\n",
       "    <tr>\n",
       "      <th>2015-12-31</th>\n",
       "      <td>1139.2</td>\n",
       "      <td>6361.2</td>\n",
       "      <td>3225.0</td>\n",
       "      <td>1153.3</td>\n",
       "      <td>180</td>\n",
       "    </tr>\n",
       "    <tr>\n",
       "      <th>2012-12-31</th>\n",
       "      <td>1226.0</td>\n",
       "      <td>5591.3</td>\n",
       "      <td>2668.0</td>\n",
       "      <td>1244.7</td>\n",
       "      <td>118</td>\n",
       "    </tr>\n",
       "  </tbody>\n",
       "</table>\n",
       "</div>"
      ],
      "text/plain": [
       "            precipitation  temp_max  temp_min    wind  is_sun\n",
       "date                                                         \n",
       "2014-12-31         1232.8    6203.5    3161.8  1236.5     211\n",
       "2013-12-31          828.0    5861.5    2976.2  1100.8     205\n",
       "2015-12-31         1139.2    6361.2    3225.0  1153.3     180\n",
       "2012-12-31         1226.0    5591.3    2668.0  1244.7     118"
      ]
     },
     "execution_count": 184,
     "metadata": {},
     "output_type": "execute_result"
    }
   ],
   "source": [
    "# then we resample by year and now that we have sunshine in a quanitive state we can the calculate the sunniest year seatle had (2014)\n",
    "data.resample('Y').sum().sort_values(by='is_sun',ascending=False)"
   ]
  },
  {
   "cell_type": "markdown",
   "id": "0cbeb2b7-7cbb-4fbe-be6d-e098501e0d5c",
   "metadata": {},
   "source": [
    "## In which month does it rain the most?"
   ]
  },
  {
   "cell_type": "code",
   "execution_count": 197,
   "id": "ecfad4b1-ff90-4ce7-928d-1644c83e9745",
   "metadata": {},
   "outputs": [],
   "source": [
    "data['is_rain'] = data.weather == 'rain'"
   ]
  },
  {
   "cell_type": "code",
   "execution_count": 198,
   "id": "4fc4a3d4-074c-4765-bc00-8bfa961ec06d",
   "metadata": {},
   "outputs": [
    {
     "data": {
      "text/html": [
       "<div>\n",
       "<style scoped>\n",
       "    .dataframe tbody tr th:only-of-type {\n",
       "        vertical-align: middle;\n",
       "    }\n",
       "\n",
       "    .dataframe tbody tr th {\n",
       "        vertical-align: top;\n",
       "    }\n",
       "\n",
       "    .dataframe thead th {\n",
       "        text-align: right;\n",
       "    }\n",
       "</style>\n",
       "<table border=\"1\" class=\"dataframe\">\n",
       "  <thead>\n",
       "    <tr style=\"text-align: right;\">\n",
       "      <th></th>\n",
       "      <th>precipitation</th>\n",
       "      <th>temp_max</th>\n",
       "      <th>temp_min</th>\n",
       "      <th>wind</th>\n",
       "      <th>is_sun</th>\n",
       "      <th>is_rain</th>\n",
       "    </tr>\n",
       "    <tr>\n",
       "      <th>date</th>\n",
       "      <th></th>\n",
       "      <th></th>\n",
       "      <th></th>\n",
       "      <th></th>\n",
       "      <th></th>\n",
       "      <th></th>\n",
       "    </tr>\n",
       "  </thead>\n",
       "  <tbody>\n",
       "    <tr>\n",
       "      <th>2012-11-30</th>\n",
       "      <td>210.5</td>\n",
       "      <td>339.8</td>\n",
       "      <td>156.8</td>\n",
       "      <td>96.6</td>\n",
       "      <td>2</td>\n",
       "      <td>25</td>\n",
       "    </tr>\n",
       "    <tr>\n",
       "      <th>2012-12-31</th>\n",
       "      <td>174.0</td>\n",
       "      <td>224.3</td>\n",
       "      <td>102.1</td>\n",
       "      <td>118.8</td>\n",
       "      <td>1</td>\n",
       "      <td>23</td>\n",
       "    </tr>\n",
       "    <tr>\n",
       "      <th>2013-02-28</th>\n",
       "      <td>40.3</td>\n",
       "      <td>265.1</td>\n",
       "      <td>121.1</td>\n",
       "      <td>101.7</td>\n",
       "      <td>2</td>\n",
       "      <td>23</td>\n",
       "    </tr>\n",
       "    <tr>\n",
       "      <th>2012-03-31</th>\n",
       "      <td>183.0</td>\n",
       "      <td>296.2</td>\n",
       "      <td>88.0</td>\n",
       "      <td>131.7</td>\n",
       "      <td>6</td>\n",
       "      <td>19</td>\n",
       "    </tr>\n",
       "    <tr>\n",
       "      <th>2012-04-30</th>\n",
       "      <td>68.1</td>\n",
       "      <td>446.2</td>\n",
       "      <td>179.8</td>\n",
       "      <td>101.2</td>\n",
       "      <td>8</td>\n",
       "      <td>19</td>\n",
       "    </tr>\n",
       "  </tbody>\n",
       "</table>\n",
       "</div>"
      ],
      "text/plain": [
       "            precipitation  temp_max  temp_min   wind  is_sun  is_rain\n",
       "date                                                                 \n",
       "2012-11-30          210.5     339.8     156.8   96.6       2       25\n",
       "2012-12-31          174.0     224.3     102.1  118.8       1       23\n",
       "2013-02-28           40.3     265.1     121.1  101.7       2       23\n",
       "2012-03-31          183.0     296.2      88.0  131.7       6       19\n",
       "2012-04-30           68.1     446.2     179.8  101.2       8       19"
      ]
     },
     "execution_count": 198,
     "metadata": {},
     "output_type": "execute_result"
    }
   ],
   "source": [
    "data.resample('M').sum().sort_values(by='is_rain', ascending =False).head()"
   ]
  },
  {
   "cell_type": "code",
   "execution_count": 205,
   "id": "40908d90-cd25-4406-a6f2-93f87daed294",
   "metadata": {},
   "outputs": [],
   "source": [
    "## Which month has the most number of days with a non-zero amount of precipitation?\n",
    "data['no_rain_days'] = data.is_rain == 0"
   ]
  },
  {
   "cell_type": "code",
   "execution_count": 207,
   "id": "74f76871-6eee-4718-9bad-14a9d4ca8233",
   "metadata": {},
   "outputs": [],
   "source": [
    "data.drop(columns='no_rain', inplace=True)"
   ]
  },
  {
   "cell_type": "code",
   "execution_count": 210,
   "id": "cf78efc3-ae3d-49e2-b333-0e128256f4c6",
   "metadata": {},
   "outputs": [
    {
     "data": {
      "text/html": [
       "<div>\n",
       "<style scoped>\n",
       "    .dataframe tbody tr th:only-of-type {\n",
       "        vertical-align: middle;\n",
       "    }\n",
       "\n",
       "    .dataframe tbody tr th {\n",
       "        vertical-align: top;\n",
       "    }\n",
       "\n",
       "    .dataframe thead th {\n",
       "        text-align: right;\n",
       "    }\n",
       "</style>\n",
       "<table border=\"1\" class=\"dataframe\">\n",
       "  <thead>\n",
       "    <tr style=\"text-align: right;\">\n",
       "      <th></th>\n",
       "      <th>precipitation</th>\n",
       "      <th>temp_max</th>\n",
       "      <th>temp_min</th>\n",
       "      <th>wind</th>\n",
       "      <th>is_sun</th>\n",
       "      <th>is_rain</th>\n",
       "      <th>no_rain_days</th>\n",
       "    </tr>\n",
       "    <tr>\n",
       "      <th>date</th>\n",
       "      <th></th>\n",
       "      <th></th>\n",
       "      <th></th>\n",
       "      <th></th>\n",
       "      <th></th>\n",
       "      <th></th>\n",
       "      <th></th>\n",
       "    </tr>\n",
       "  </thead>\n",
       "  <tbody>\n",
       "    <tr>\n",
       "      <th>2014-01-31</th>\n",
       "      <td>94.0</td>\n",
       "      <td>297.6</td>\n",
       "      <td>127.0</td>\n",
       "      <td>103.8</td>\n",
       "      <td>20</td>\n",
       "      <td>0</td>\n",
       "      <td>31</td>\n",
       "    </tr>\n",
       "    <tr>\n",
       "      <th>2013-05-31</th>\n",
       "      <td>60.5</td>\n",
       "      <td>608.4</td>\n",
       "      <td>307.6</td>\n",
       "      <td>97.9</td>\n",
       "      <td>21</td>\n",
       "      <td>0</td>\n",
       "      <td>31</td>\n",
       "    </tr>\n",
       "    <tr>\n",
       "      <th>2015-07-31</th>\n",
       "      <td>2.3</td>\n",
       "      <td>870.9</td>\n",
       "      <td>480.5</td>\n",
       "      <td>92.5</td>\n",
       "      <td>25</td>\n",
       "      <td>0</td>\n",
       "      <td>31</td>\n",
       "    </tr>\n",
       "    <tr>\n",
       "      <th>2015-05-31</th>\n",
       "      <td>14.8</td>\n",
       "      <td>620.8</td>\n",
       "      <td>314.0</td>\n",
       "      <td>87.2</td>\n",
       "      <td>23</td>\n",
       "      <td>0</td>\n",
       "      <td>31</td>\n",
       "    </tr>\n",
       "    <tr>\n",
       "      <th>2015-03-31</th>\n",
       "      <td>113.5</td>\n",
       "      <td>445.7</td>\n",
       "      <td>192.0</td>\n",
       "      <td>90.9</td>\n",
       "      <td>16</td>\n",
       "      <td>0</td>\n",
       "      <td>31</td>\n",
       "    </tr>\n",
       "  </tbody>\n",
       "</table>\n",
       "</div>"
      ],
      "text/plain": [
       "            precipitation  temp_max  temp_min   wind  is_sun  is_rain  \\\n",
       "date                                                                    \n",
       "2014-01-31           94.0     297.6     127.0  103.8      20        0   \n",
       "2013-05-31           60.5     608.4     307.6   97.9      21        0   \n",
       "2015-07-31            2.3     870.9     480.5   92.5      25        0   \n",
       "2015-05-31           14.8     620.8     314.0   87.2      23        0   \n",
       "2015-03-31          113.5     445.7     192.0   90.9      16        0   \n",
       "\n",
       "            no_rain_days  \n",
       "date                      \n",
       "2014-01-31            31  \n",
       "2013-05-31            31  \n",
       "2015-07-31            31  \n",
       "2015-05-31            31  \n",
       "2015-03-31            31  "
      ]
     },
     "execution_count": 210,
     "metadata": {},
     "output_type": "execute_result"
    }
   ],
   "source": [
    "# here is a list of the dries months \n",
    "data.resample('M').sum().sort_values(by='no_rain_days', ascending=False).head()"
   ]
  },
  {
   "cell_type": "markdown",
   "id": "6fa18963-7c9e-44c8-8e43-f0c13b8c9e54",
   "metadata": {},
   "source": [
    "    End "
   ]
  },
  {
   "cell_type": "code",
   "execution_count": 213,
   "id": "3e17cb80-da95-4b9b-9e32-1dd6c6a21b4a",
   "metadata": {},
   "outputs": [],
   "source": [
    "x = data.flights_20k()\n"
   ]
  },
  {
   "cell_type": "code",
   "execution_count": 214,
   "id": "0cca7a27-126c-4e9f-bf80-ee9f9ff05eef",
   "metadata": {},
   "outputs": [
    {
     "data": {
      "text/html": [
       "<div>\n",
       "<style scoped>\n",
       "    .dataframe tbody tr th:only-of-type {\n",
       "        vertical-align: middle;\n",
       "    }\n",
       "\n",
       "    .dataframe tbody tr th {\n",
       "        vertical-align: top;\n",
       "    }\n",
       "\n",
       "    .dataframe thead th {\n",
       "        text-align: right;\n",
       "    }\n",
       "</style>\n",
       "<table border=\"1\" class=\"dataframe\">\n",
       "  <thead>\n",
       "    <tr style=\"text-align: right;\">\n",
       "      <th></th>\n",
       "      <th>date</th>\n",
       "      <th>delay</th>\n",
       "      <th>distance</th>\n",
       "      <th>origin</th>\n",
       "      <th>destination</th>\n",
       "    </tr>\n",
       "  </thead>\n",
       "  <tbody>\n",
       "    <tr>\n",
       "      <th>0</th>\n",
       "      <td>2001-01-13 14:56:00</td>\n",
       "      <td>32</td>\n",
       "      <td>417</td>\n",
       "      <td>SAN</td>\n",
       "      <td>SJC</td>\n",
       "    </tr>\n",
       "    <tr>\n",
       "      <th>1</th>\n",
       "      <td>2001-01-31 16:40:00</td>\n",
       "      <td>-5</td>\n",
       "      <td>1093</td>\n",
       "      <td>FLL</td>\n",
       "      <td>ISP</td>\n",
       "    </tr>\n",
       "    <tr>\n",
       "      <th>2</th>\n",
       "      <td>2001-02-11 18:39:00</td>\n",
       "      <td>3</td>\n",
       "      <td>293</td>\n",
       "      <td>LBB</td>\n",
       "      <td>DAL</td>\n",
       "    </tr>\n",
       "    <tr>\n",
       "      <th>3</th>\n",
       "      <td>2001-01-10 21:00:00</td>\n",
       "      <td>-15</td>\n",
       "      <td>550</td>\n",
       "      <td>MSY</td>\n",
       "      <td>MCO</td>\n",
       "    </tr>\n",
       "    <tr>\n",
       "      <th>4</th>\n",
       "      <td>2001-03-30 21:45:00</td>\n",
       "      <td>-2</td>\n",
       "      <td>229</td>\n",
       "      <td>STL</td>\n",
       "      <td>IND</td>\n",
       "    </tr>\n",
       "  </tbody>\n",
       "</table>\n",
       "</div>"
      ],
      "text/plain": [
       "                 date  delay  distance origin destination\n",
       "0 2001-01-13 14:56:00     32       417    SAN         SJC\n",
       "1 2001-01-31 16:40:00     -5      1093    FLL         ISP\n",
       "2 2001-02-11 18:39:00      3       293    LBB         DAL\n",
       "3 2001-01-10 21:00:00    -15       550    MSY         MCO\n",
       "4 2001-03-30 21:45:00     -2       229    STL         IND"
      ]
     },
     "execution_count": 214,
     "metadata": {},
     "output_type": "execute_result"
    }
   ],
   "source": [
    "x.head()"
   ]
  },
  {
   "cell_type": "markdown",
   "id": "18f85ea7-2d52-4bb8-bfcd-f2f0a3447a3a",
   "metadata": {},
   "source": [
    "# Use the above dataset for the following exercises:"
   ]
  },
  {
   "cell_type": "markdown",
   "id": "bb3a3b3b-d34b-4017-a416-f4fd88be153b",
   "metadata": {},
   "source": [
    "## Convert any negative delays to 0."
   ]
  },
  {
   "cell_type": "code",
   "execution_count": 227,
   "id": "86723281-2c83-470d-b767-0fddf6da8e88",
   "metadata": {},
   "outputs": [],
   "source": [
    "x['date'] = pd.to_datetime(x.date)"
   ]
  },
  {
   "cell_type": "code",
   "execution_count": 228,
   "id": "c09059b4-6286-4394-bed8-388a6bebdf09",
   "metadata": {},
   "outputs": [],
   "source": [
    "x = x.set_index('date').sort_index()"
   ]
  },
  {
   "cell_type": "markdown",
   "id": "a937e19e-3418-48ac-9335-0e6622229b44",
   "metadata": {},
   "source": [
    "## Which hour of the day has the highest average delay?"
   ]
  },
  {
   "cell_type": "markdown",
   "id": "355dc021-54a4-486d-98eb-f19ebc31bcb4",
   "metadata": {},
   "source": [
    "## Does the day of the week make a difference in the delay amount?"
   ]
  },
  {
   "cell_type": "markdown",
   "id": "ee7d81c9-25f4-4ef9-9086-9f7ff98ae1c9",
   "metadata": {},
   "source": [
    "## Does the month make a difference in the delay amount?"
   ]
  }
 ],
 "metadata": {
  "kernelspec": {
   "display_name": "Python 3 (ipykernel)",
   "language": "python",
   "name": "python3"
  },
  "language_info": {
   "codemirror_mode": {
    "name": "ipython",
    "version": 3
   },
   "file_extension": ".py",
   "mimetype": "text/x-python",
   "name": "python",
   "nbconvert_exporter": "python",
   "pygments_lexer": "ipython3",
   "version": "3.10.9"
  }
 },
 "nbformat": 4,
 "nbformat_minor": 5
}
